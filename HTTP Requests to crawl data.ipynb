{
 "cells": [
  {
   "cell_type": "markdown",
   "id": "427f03d3-5421-4a25-8e6e-f88f5b4527aa",
   "metadata": {},
   "source": [
    "### There are two libiaries we can use to send HTTP GET Request to retrieve HTML content: urllib and requests"
   ]
  },
  {
   "cell_type": "code",
   "execution_count": 59,
   "id": "0f884f8d-ed77-4859-be49-659099a36480",
   "metadata": {},
   "outputs": [],
   "source": [
    "# Requests libiary\n",
    "# import packages\n",
    "import requests\n",
    "from bs4 import BeautifulSoup\n",
    "import numpy as np\n",
    "import pandas as pd\n",
    "import matplotlib as mpl\n",
    "import matplotlib.pyplot as plt\n",
    "import seaborn as sns"
   ]
  },
  {
   "cell_type": "code",
   "execution_count": 60,
   "id": "1004a409-cf41-49b0-a295-8f4e3923444a",
   "metadata": {},
   "outputs": [],
   "source": [
    "# Copy headers from the website, under Network - Headers - Request Headers\n",
    "headers = {'user-agent': 'Mozilla/5.0 (Windows NT 10.0; Win64; x64) AppleWebKit/537.36 (KHTML, like Gecko) Chrome/131.0.0.0 Safari/537.36',\n",
    "          'accept-language': 'en-CA,en;q=0.9,zh-CN;q=0.8,zh;q=0.7'}\n",
    "\n",
    "# Copy url from the website\n",
    "url = \"https://toronto.craigslist.org/search/cta#search=1~gallery~0~0\"\n",
    "\n",
    "# Use the GET method to send requests\n",
    "response = requests.get(url, headers = headers)\n",
    "\n",
    "# We can check the return in text format by using response.text. Note the content is not parsed yet.\n",
    "# Use BeautifulSoup method to parse the HTML content\n",
    "soup = BeautifulSoup(response.text, 'html.parser')"
   ]
  },
  {
   "cell_type": "code",
   "execution_count": 61,
   "id": "a91f50aa-f1fe-4906-9fcd-a8e9c1d89abb",
   "metadata": {},
   "outputs": [],
   "source": [
    "# Urllib library\n",
    "# import packages\n",
    "from urllib.request import urlopen\n",
    "from bs4 import BeautifulSoup"
   ]
  },
  {
   "cell_type": "code",
   "execution_count": 62,
   "id": "63903d8c-b27e-4297-8c0a-20b11329d5a1",
   "metadata": {},
   "outputs": [],
   "source": [
    "# Extract website data\n",
    "urltoOpen = urlopen(\"https://toronto.craigslist.org/search/cta#search=1~gallery~0~0\")\n",
    "soup = BeautifulSoup(urltoOpen, 'html.parser')"
   ]
  },
  {
   "cell_type": "code",
   "execution_count": 63,
   "id": "ccb4b788-1976-43be-9942-9959d0e7e190",
   "metadata": {},
   "outputs": [
    {
     "name": "stdout",
     "output_type": "stream",
     "text": [
      "<class 'pandas.core.frame.DataFrame'>\n",
      "RangeIndex: 344 entries, 0 to 343\n",
      "Data columns (total 4 columns):\n",
      " #   Column     Non-Null Count  Dtype \n",
      "---  ------     --------------  ----- \n",
      " 0   titles     344 non-null    object\n",
      " 1   links      343 non-null    object\n",
      " 2   prices     344 non-null    object\n",
      " 3   locations  344 non-null    object\n",
      "dtypes: object(4)\n",
      "memory usage: 10.9+ KB\n"
     ]
    }
   ],
   "source": [
    "# Get all the listing titles from current page and put them in a dataframe, use try except method to avoid breaking the loop when a tag is missing. \n",
    "titles = []\n",
    "prices = []\n",
    "locations = []\n",
    "links = []\n",
    "\n",
    "for div in soup.select('li'):\n",
    "    try:\n",
    "        title = div.select_one('div.title').text.strip()\n",
    "    except:\n",
    "        title = 'None'\n",
    "    try:\n",
    "        link = div.select_one('a[href]')\n",
    "    except:\n",
    "        link = ''\n",
    "    try:\n",
    "        price = div.select_one('div.price').text.strip()\n",
    "    except:\n",
    "        price = ''\n",
    "    try:\n",
    "        location = div.select_one('div.location').text.strip()\n",
    "    except:\n",
    "        location = ''\n",
    "        \n",
    "    titles.append(title) \n",
    "    links.append(link)\n",
    "    prices.append(price)\n",
    "    locations.append(location)\n",
    "    \n",
    "df = pd.DataFrame({'titles': titles, 'links':links, 'prices':prices, 'locations': locations})\n",
    "df.info()"
   ]
  },
  {
   "cell_type": "code",
   "execution_count": 64,
   "id": "73877e4b-33c1-40be-85ce-f2837d474973",
   "metadata": {},
   "outputs": [
    {
     "name": "stdout",
     "output_type": "stream",
     "text": [
      "<class 'pandas.core.frame.DataFrame'>\n",
      "RangeIndex: 343 entries, 0 to 342\n",
      "Data columns (total 4 columns):\n",
      " #   Column     Non-Null Count  Dtype \n",
      "---  ------     --------------  ----- \n",
      " 0   titles     343 non-null    object\n",
      " 1   links      343 non-null    object\n",
      " 2   prices     343 non-null    object\n",
      " 3   locations  343 non-null    object\n",
      "dtypes: object(4)\n",
      "memory usage: 10.8+ KB\n"
     ]
    }
   ],
   "source": [
    "# Get all the listing titles from current page and put them in a dataframe. Get rid of missing data.\n",
    "titles = []\n",
    "prices = []\n",
    "locations = []\n",
    "links = []\n",
    "\n",
    "for div in soup.select('li'):\n",
    "    if div.select_one('div.title') or div.select_one('a[href]') or div.select_one('div.price') or div.select_one('div.location'):\n",
    "        \n",
    "        title_tag = div.select_one('div.title')\n",
    "        title = title_tag.text.strip().lower() if title_tag else None\n",
    "        \n",
    "        link_tag = div.select_one('a[href]')\n",
    "        link = link_tag['href'] if link_tag else None\n",
    "    \n",
    "        price_tag = div.select_one('div.price')\n",
    "        price = price_tag.text.strip() if price_tag else None\n",
    "        \n",
    "        location_tag = div.select_one('div.location')\n",
    "        location = location_tag.text.strip().lower() if location_tag else None\n",
    "            \n",
    "        titles.append(title) \n",
    "        links.append(link)\n",
    "        prices.append(price)\n",
    "        locations.append(location)\n",
    "    \n",
    "df = pd.DataFrame({'titles': titles, 'links':links, 'prices':prices, 'locations': locations})\n",
    "df.info()"
   ]
  },
  {
   "cell_type": "code",
   "execution_count": 65,
   "id": "92e4da47-a533-450b-9276-96bc70374fce",
   "metadata": {},
   "outputs": [
    {
     "data": {
      "text/html": [
       "<div>\n",
       "<style scoped>\n",
       "    .dataframe tbody tr th:only-of-type {\n",
       "        vertical-align: middle;\n",
       "    }\n",
       "\n",
       "    .dataframe tbody tr th {\n",
       "        vertical-align: top;\n",
       "    }\n",
       "\n",
       "    .dataframe thead th {\n",
       "        text-align: right;\n",
       "    }\n",
       "</style>\n",
       "<table border=\"1\" class=\"dataframe\">\n",
       "  <thead>\n",
       "    <tr style=\"text-align: right;\">\n",
       "      <th></th>\n",
       "      <th>titles</th>\n",
       "      <th>links</th>\n",
       "      <th>prices</th>\n",
       "      <th>locations</th>\n",
       "    </tr>\n",
       "  </thead>\n",
       "  <tbody>\n",
       "    <tr>\n",
       "      <th>0</th>\n",
       "      <td>2012 hyundai elantra gls</td>\n",
       "      <td>https://toronto.craigslist.org/tor/ctd/d/north...</td>\n",
       "      <td>$6,950</td>\n",
       "      <td>north york</td>\n",
       "    </tr>\n",
       "    <tr>\n",
       "      <th>1</th>\n",
       "      <td>2013 dodge journey se</td>\n",
       "      <td>https://toronto.craigslist.org/tor/ctd/d/north...</td>\n",
       "      <td>$6,399</td>\n",
       "      <td>north york</td>\n",
       "    </tr>\n",
       "    <tr>\n",
       "      <th>2</th>\n",
       "      <td>2016 dodge journey se seven passenger</td>\n",
       "      <td>https://toronto.craigslist.org/tor/ctd/d/north...</td>\n",
       "      <td>$7,599</td>\n",
       "      <td>north york</td>\n",
       "    </tr>\n",
       "    <tr>\n",
       "      <th>3</th>\n",
       "      <td>2014 chevrolet cruze lt</td>\n",
       "      <td>https://toronto.craigslist.org/tor/ctd/d/north...</td>\n",
       "      <td>$6,399</td>\n",
       "      <td>north york</td>\n",
       "    </tr>\n",
       "    <tr>\n",
       "      <th>4</th>\n",
       "      <td>2011 mazda mazda 2</td>\n",
       "      <td>https://toronto.craigslist.org/tor/ctd/d/north...</td>\n",
       "      <td>$5,399</td>\n",
       "      <td>north york</td>\n",
       "    </tr>\n",
       "  </tbody>\n",
       "</table>\n",
       "</div>"
      ],
      "text/plain": [
       "                                  titles  \\\n",
       "0               2012 hyundai elantra gls   \n",
       "1                  2013 dodge journey se   \n",
       "2  2016 dodge journey se seven passenger   \n",
       "3                2014 chevrolet cruze lt   \n",
       "4                     2011 mazda mazda 2   \n",
       "\n",
       "                                               links  prices   locations  \n",
       "0  https://toronto.craigslist.org/tor/ctd/d/north...  $6,950  north york  \n",
       "1  https://toronto.craigslist.org/tor/ctd/d/north...  $6,399  north york  \n",
       "2  https://toronto.craigslist.org/tor/ctd/d/north...  $7,599  north york  \n",
       "3  https://toronto.craigslist.org/tor/ctd/d/north...  $6,399  north york  \n",
       "4  https://toronto.craigslist.org/tor/ctd/d/north...  $5,399  north york  "
      ]
     },
     "execution_count": 65,
     "metadata": {},
     "output_type": "execute_result"
    }
   ],
   "source": [
    "df.head()"
   ]
  },
  {
   "cell_type": "raw",
   "id": "2f26b45c-7003-4467-aa12-83bdd1c8d537",
   "metadata": {},
   "source": [
    "Two ways of using soup to get the links from the website\n",
    "\n",
    "links = soup.select('a[href]')\n",
    "for link in links:\n",
    "    print(link['href'])\n",
    "\n",
    "links = soup.find_all('a', href = Ture)\n",
    "for link in links:\n",
    "    print(link['href'])"
   ]
  },
  {
   "cell_type": "markdown",
   "id": "6d2d1796-5283-4862-a325-38700f38015b",
   "metadata": {},
   "source": [
    "## Note:\n",
    "\n",
    "1. The website is dynamic (content loaded with JavaScript), soup.select() alone will not work because BeautifulSoup can only parse the static HTML returned by the server. Dynamic content is rendered after the page is loaded, often via AJAX requests or lazy loading.\n",
    "2. To handle dynamic website, we have three methods:\n",
    "\n",
    "### Option\tWhen to Use\tTools Required\t+ Difficulty\n",
    "- Option 1: Selenium + BeautifulSoup | Dynamic content, no API\t| Selenium, BeautifulSoup, Pandas\t⭐⭐⭐ (Medium)\n",
    "- Option 2: API request via requests |\tAPI available (check XHR requests) | Requests, Pandas\t⭐⭐ (Easy)\n",
    "- Option 3: Hybrid (Selenium + API) | Dynamically-generated API URL\t| Selenium, Requests, Pandas\t⭐⭐⭐⭐ (Complex)\n"
   ]
  },
  {
   "cell_type": "markdown",
   "id": "d2982b15-e90e-4566-95df-62fb1f019b50",
   "metadata": {},
   "source": [
    "### Key Commands for CSS Selectors\n",
    "\n",
    "Selector\tUsage\tExample\n",
    "- ID Selector\t-- Select by ID\t--> #search-results-page-1\n",
    "- Class Selector --\tSelect by class\t--> .meta-line\n",
    "- Child Selector --\tDirect child selector -->\t#search-results-page-1 > ol\n",
    "- Descendant Selector --\tAll descendants -->\t#search-results-page-1 ol div\n",
    "- nth-child() --\tSelect specific child -->\tol > div:nth-child(1)\n",
    "- Attribute Selector --\tSelect by attribute -->\tdiv[class=\"meta-line\"]"
   ]
  },
  {
   "cell_type": "code",
   "execution_count": null,
   "id": "a4669858-c71b-4b35-a38c-7ca431fb346c",
   "metadata": {},
   "outputs": [],
   "source": []
  },
  {
   "cell_type": "code",
   "execution_count": null,
   "id": "e1373fb9-5a27-4dbd-8fb3-7600df3c663d",
   "metadata": {},
   "outputs": [],
   "source": []
  },
  {
   "cell_type": "code",
   "execution_count": null,
   "id": "39d00170-7389-4e09-a965-5d948138ba0c",
   "metadata": {},
   "outputs": [],
   "source": []
  }
 ],
 "metadata": {
  "kernelspec": {
   "display_name": "Python 3 (ipykernel)",
   "language": "python",
   "name": "python3"
  },
  "language_info": {
   "codemirror_mode": {
    "name": "ipython",
    "version": 3
   },
   "file_extension": ".py",
   "mimetype": "text/x-python",
   "name": "python",
   "nbconvert_exporter": "python",
   "pygments_lexer": "ipython3",
   "version": "3.11.7"
  }
 },
 "nbformat": 4,
 "nbformat_minor": 5
}
